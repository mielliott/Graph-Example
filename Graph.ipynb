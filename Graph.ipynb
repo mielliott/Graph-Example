{
 "cells": [
  {
   "cell_type": "code",
   "execution_count": 7,
   "metadata": {
    "scrolled": true
   },
   "outputs": [
    {
     "data": {
      "text/plain": [
       "sqlContext = org.apache.spark.sql.SQLContext@1f3c015f\n"
      ]
     },
     "metadata": {},
     "output_type": "display_data"
    },
    {
     "data": {
      "text/plain": [
       "warning: there was one deprecation warning; re-run with -deprecation for details\n"
      ]
     },
     "metadata": {},
     "output_type": "display_data"
    },
    {
     "data": {
      "text/plain": [
       "org.apache.spark.sql.SQLContext@1f3c015f"
      ]
     },
     "execution_count": 7,
     "metadata": {},
     "output_type": "execute_result"
    }
   ],
   "source": [
    "import org.apache.spark._\n",
    "import org.apache.spark.graphx._\n",
    "import org.apache.spark.rdd.RDD\n",
    "\n",
    "val sqlContext = new org.apache.spark.sql.SQLContext(sc)"
   ]
  },
  {
   "cell_type": "code",
   "execution_count": 3,
   "metadata": {},
   "outputs": [
    {
     "data": {
      "text/plain": [
       "defined class Node\n",
       "defined class ValueNode\n",
       "defined class PetNode\n"
      ]
     },
     "metadata": {},
     "output_type": "display_data"
    }
   ],
   "source": [
    "class Node()\n",
    "case class ValueNode(val field: String, val value: String) extends Node\n",
    "case class PetNode(val name: String, val species: String, val breed: String) extends Node"
   ]
  },
  {
   "cell_type": "code",
   "execution_count": 40,
   "metadata": {},
   "outputs": [
    {
     "data": {
      "text/plain": [
       "edges = Array(Edge(1,2,eats), Edge(2,3,eats), Edge(3,1,eats))\n"
      ]
     },
     "metadata": {},
     "output_type": "display_data"
    },
    {
     "data": {
      "text/plain": [
       "Array(Edge(1,2,eats), Edge(2,3,eats), Edge(3,1,eats))"
      ]
     },
     "execution_count": 40,
     "metadata": {},
     "output_type": "execute_result"
    }
   ],
   "source": [
    "val edges = Array(Edge(1L,2L,\"eats\"),Edge(2L,3L,\"eats\"),Edge(3L,1L,))"
   ]
  },
  {
   "cell_type": "code",
   "execution_count": 37,
   "metadata": {},
   "outputs": [
    {
     "data": {
      "text/plain": [
       "test = ValueNode(haha,gotcha)\n"
      ]
     },
     "metadata": {},
     "output_type": "display_data"
    },
    {
     "data": {
      "text/plain": [
       "ValueNode(haha,gotcha)"
      ]
     },
     "execution_count": 37,
     "metadata": {},
     "output_type": "execute_result"
    }
   ],
   "source": [
    "val test = ValueNode(\"haha\", \"gotcha\")"
   ]
  },
  {
   "cell_type": "markdown",
   "metadata": {},
   "source": [
    "## Build a graph\n",
    "* Create a node for each record\n",
    "* Create a node for each field-value\n",
    "* Link records to their field-values"
   ]
  },
  {
   "cell_type": "code",
   "execution_count": 30,
   "metadata": {
    "scrolled": true
   },
   "outputs": [
    {
     "data": {
      "text/plain": [
       "records_sdf = [Species: string, Breed: string ... 1 more field]\n"
      ]
     },
     "metadata": {},
     "output_type": "display_data"
    },
    {
     "data": {
      "text/plain": [
       "[Species: string, Breed: string ... 1 more field]"
      ]
     },
     "execution_count": 30,
     "metadata": {},
     "output_type": "execute_result"
    }
   ],
   "source": [
    "val records_sdf = sqlContext.read.parquet(\"pets.parquet\")"
   ]
  },
  {
   "cell_type": "code",
   "execution_count": 51,
   "metadata": {},
   "outputs": [
    {
     "data": {
      "text/plain": [
       "[Cat,Devon Rex,Macchiatto]"
      ]
     },
     "execution_count": 51,
     "metadata": {},
     "output_type": "execute_result"
    }
   ],
   "source": [
    "a(0)"
   ]
  },
  {
   "cell_type": "code",
   "execution_count": 61,
   "metadata": {},
   "outputs": [
    {
     "data": {
      "text/plain": [
       "a = [Cat,Devon Rex,Macchiatto]\n"
      ]
     },
     "metadata": {},
     "output_type": "display_data"
    },
    {
     "data": {
      "text/plain": [
       "[Cat,Devon Rex,Macchiatto]"
      ]
     },
     "execution_count": 61,
     "metadata": {},
     "output_type": "execute_result"
    }
   ],
   "source": [
    "val a = records_sdf.take(1)(0)\n",
    "a.toString"
   ]
  },
  {
   "cell_type": "code",
   "execution_count": 68,
   "metadata": {},
   "outputs": [
    {
     "data": {
      "text/plain": [
       "Name: Unknown Error\n",
       "Message: <console>:39: error: class Array takes type parameters\n",
       "       val a: Array = null\n",
       "              ^\n",
       "\n",
       "StackTrace: "
      ]
     },
     "execution_count": 68,
     "metadata": {},
     "output_type": "execute_result"
    }
   ],
   "source": [
    "val a: Array = null"
   ]
  },
  {
   "cell_type": "code",
   "execution_count": 66,
   "metadata": {},
   "outputs": [
    {
     "data": {
      "text/plain": [
       "petNodes = [name: string, species: string ... 1 more field]\n"
      ]
     },
     "metadata": {},
     "output_type": "display_data"
    },
    {
     "data": {
      "text/plain": [
       "[name: string, species: string ... 1 more field]"
      ]
     },
     "execution_count": 66,
     "metadata": {},
     "output_type": "execute_result"
    }
   ],
   "source": [
    "val petNodes:  = records_sdf.map(a => PetNode(species=a(0).toString, breed=a(1).toString, name=a(2).toString))"
   ]
  },
  {
   "cell_type": "code",
   "execution_count": 36,
   "metadata": {},
   "outputs": [
    {
     "data": {
      "text/plain": [
       "[Species: string]"
      ]
     },
     "execution_count": 36,
     "metadata": {},
     "output_type": "execute_result"
    }
   ],
   "source": [
    "records_sdf.select(\"Species\")"
   ]
  },
  {
   "cell_type": "code",
   "execution_count": 27,
   "metadata": {},
   "outputs": [
    {
     "data": {
      "text/plain": [
       "Array([Cat,Devon Rex,Macchiatto], [Dog,Miniature Pinscher,Penny], [Dog,Japanese Chin,Jameson], [Dog,Retriever, Golden,Dani], [Cat,Balinese,Macchiatto], [Cat,Birman,Georgie], [Dog,Terrier, American Pit Bull,Kato], [Dog,Terrier, West Highland White,Lydia], [Dog,Afghan Hound,Zooie], [Dog,Spaniel,Bella Notte], [Dog,Bulldog, English,Winston], [Dog,Spaniel, Irish Water,Lakey], [Dog,Boxer,Mombasa], [Cat,Russian Blue,Mister], [Cat,Domestic Shorthair,Katharina], [Dog,Terrier, West Highland White,Ender], [Cat,Persian,Poet], [Cat,Bombay,Elwha], [Cat,Bombay,Buddy], [Dog,Chinook,Shep], [Dog,Dachshund, Standard Long Haired,Ollie Duff], [Cat,Bengal,Bobby], [Cat,Ragdoll,Moose /Buster], [Dog,Shih Tzu,Flynn], [Cat,Russian Blue,Abby], [Dog,Portuguese Water Dog,Ferd..."
      ]
     },
     "execution_count": 27,
     "metadata": {},
     "output_type": "execute_result"
    }
   ],
   "source": [
    "records.collect"
   ]
  },
  {
   "cell_type": "code",
   "execution_count": 28,
   "metadata": {},
   "outputs": [
    {
     "data": {
      "text/plain": [
       "Name: Compile Error\n",
       "Message: <console>:41: error: not enough arguments for method apply: (vertices: org.apache.spark.rdd.RDD[(org.apache.spark.graphx.VertexId, VD)], edges: org.apache.spark.rdd.RDD[org.apache.spark.graphx.Edge[ED]], defaultVertexAttr: VD, edgeStorageLevel: org.apache.spark.storage.StorageLevel, vertexStorageLevel: org.apache.spark.storage.StorageLevel)(implicit evidence$18: scala.reflect.ClassTag[VD], implicit evidence$19: scala.reflect.ClassTag[ED])org.apache.spark.graphx.Graph[VD,ED] in object Graph.\n",
       "Unspecified value parameter edges.\n",
       "       var graph = Graph(records)\n",
       "                        ^\n",
       "\n",
       "StackTrace: "
      ]
     },
     "execution_count": 28,
     "metadata": {},
     "output_type": "execute_result"
    }
   ],
   "source": [
    "var graph = Graph(records)"
   ]
  }
 ],
 "metadata": {
  "kernelspec": {
   "display_name": "Apache Toree - Scala",
   "language": "scala",
   "name": "apache_toree_scala"
  },
  "language_info": {
   "codemirror_mode": "text/x-scala",
   "file_extension": ".scala",
   "mimetype": "text/x-scala",
   "name": "scala",
   "pygments_lexer": "scala",
   "version": "2.11.12"
  }
 },
 "nbformat": 4,
 "nbformat_minor": 2
}
