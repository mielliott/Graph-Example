{
 "cells": [
  {
   "cell_type": "code",
   "execution_count": 305,
   "metadata": {},
   "outputs": [],
   "source": [
    "import pandas as pd\n",
    "import numpy as np\n",
    "import random\n",
    "import pyarrow"
   ]
  },
  {
   "cell_type": "markdown",
   "metadata": {},
   "source": [
    "## Generate Data"
   ]
  },
  {
   "cell_type": "code",
   "execution_count": null,
   "metadata": {},
   "outputs": [],
   "source": [
    "# Guess species using name or breed?"
   ]
  },
  {
   "cell_type": "code",
   "execution_count": 128,
   "metadata": {},
   "outputs": [
    {
     "name": "stdout",
     "output_type": "stream",
     "text": [
      "['boston', 'english', 'french']\n"
     ]
    }
   ],
   "source": [
    "print(data[\"message\"][\"bulldog\"])"
   ]
  },
  {
   "cell_type": "code",
   "execution_count": 136,
   "metadata": {},
   "outputs": [],
   "source": [
    "import urllib.request\n",
    "import json"
   ]
  },
  {
   "cell_type": "markdown",
   "metadata": {},
   "source": [
    "## Load possible data values"
   ]
  },
  {
   "cell_type": "code",
   "execution_count": 279,
   "metadata": {},
   "outputs": [
    {
     "data": {
      "text/html": [
       "<div>\n",
       "<style scoped>\n",
       "    .dataframe tbody tr th:only-of-type {\n",
       "        vertical-align: middle;\n",
       "    }\n",
       "\n",
       "    .dataframe tbody tr th {\n",
       "        vertical-align: top;\n",
       "    }\n",
       "\n",
       "    .dataframe thead th {\n",
       "        text-align: right;\n",
       "    }\n",
       "</style>\n",
       "<table border=\"1\" class=\"dataframe\">\n",
       "  <thead>\n",
       "    <tr style=\"text-align: right;\">\n",
       "      <th></th>\n",
       "      <th>animal_s_name</th>\n",
       "      <th>license_issue_date</th>\n",
       "      <th>license_number</th>\n",
       "      <th>primary_breed</th>\n",
       "      <th>secondary_breed</th>\n",
       "      <th>species</th>\n",
       "      <th>zip_code</th>\n",
       "    </tr>\n",
       "  </thead>\n",
       "  <tbody>\n",
       "    <tr>\n",
       "      <th>0</th>\n",
       "      <td>Tinkerdelle</td>\n",
       "      <td>2003-04-19T00:00:00.000</td>\n",
       "      <td>200097</td>\n",
       "      <td>Domestic Shorthair</td>\n",
       "      <td>NaN</td>\n",
       "      <td>Cat</td>\n",
       "      <td>98116</td>\n",
       "    </tr>\n",
       "    <tr>\n",
       "      <th>1</th>\n",
       "      <td>Pepper</td>\n",
       "      <td>2006-02-07T00:00:00.000</td>\n",
       "      <td>75432</td>\n",
       "      <td>Manx</td>\n",
       "      <td>Mix</td>\n",
       "      <td>Cat</td>\n",
       "      <td>98103</td>\n",
       "    </tr>\n",
       "    <tr>\n",
       "      <th>2</th>\n",
       "      <td>Buddy</td>\n",
       "      <td>2008-03-20T00:00:00.000</td>\n",
       "      <td>135598</td>\n",
       "      <td>Retriever, Labrador</td>\n",
       "      <td>Mix</td>\n",
       "      <td>Dog</td>\n",
       "      <td>98133</td>\n",
       "    </tr>\n",
       "    <tr>\n",
       "      <th>3</th>\n",
       "      <td>Finigan</td>\n",
       "      <td>2008-12-01T00:00:00.000</td>\n",
       "      <td>957147</td>\n",
       "      <td>Spaniel, Irish Water</td>\n",
       "      <td>NaN</td>\n",
       "      <td>Dog</td>\n",
       "      <td>98107</td>\n",
       "    </tr>\n",
       "    <tr>\n",
       "      <th>4</th>\n",
       "      <td>Jenkey</td>\n",
       "      <td>2011-03-29T00:00:00.000</td>\n",
       "      <td>141222</td>\n",
       "      <td>Australian Cattle Dog</td>\n",
       "      <td>Mix</td>\n",
       "      <td>Dog</td>\n",
       "      <td>98106</td>\n",
       "    </tr>\n",
       "  </tbody>\n",
       "</table>\n",
       "</div>"
      ],
      "text/plain": [
       "  animal_s_name       license_issue_date license_number  \\\n",
       "0   Tinkerdelle  2003-04-19T00:00:00.000         200097   \n",
       "1        Pepper  2006-02-07T00:00:00.000          75432   \n",
       "2         Buddy  2008-03-20T00:00:00.000         135598   \n",
       "3       Finigan  2008-12-01T00:00:00.000         957147   \n",
       "4        Jenkey  2011-03-29T00:00:00.000         141222   \n",
       "\n",
       "           primary_breed secondary_breed species zip_code  \n",
       "0     Domestic Shorthair             NaN     Cat    98116  \n",
       "1                   Manx             Mix     Cat    98103  \n",
       "2    Retriever, Labrador             Mix     Dog    98133  \n",
       "3   Spaniel, Irish Water             NaN     Dog    98107  \n",
       "4  Australian Cattle Dog             Mix     Dog    98106  "
      ]
     },
     "execution_count": 279,
     "metadata": {},
     "output_type": "execute_result"
    }
   ],
   "source": [
    "# Get sample data for registered pets in Seattle\n",
    "df = pd.read_json(\"https://data.seattle.gov/resource/87w5-fd6d.json\");\n",
    "df.head()"
   ]
  },
  {
   "cell_type": "code",
   "execution_count": 280,
   "metadata": {},
   "outputs": [],
   "source": [
    "# Build hierarchical source dataset - name and breed depend on species\n",
    "# This isn't very necessary -- we could have just taken x records from the sample set\n",
    "sourceData = {};\n",
    "\n",
    "for species in df[\"species\"].unique():\n",
    "    speciesData = df[df[\"species\"] == species];\n",
    "\n",
    "    breeds = [x.title() for x in speciesData[\"primary_breed\"].unique() if x.lower().count(\"mixed\") == 0];\n",
    "    names = [x.title() for x in speciesData[\"animal_s_name\"].unique() if type(x) == str];\n",
    "\n",
    "    sourceData[species] = {\n",
    "        \"breeds\" : breeds,\n",
    "        \"names\" : names\n",
    "    }"
   ]
  },
  {
   "cell_type": "markdown",
   "metadata": {},
   "source": [
    "## Build sample set"
   ]
  },
  {
   "cell_type": "code",
   "execution_count": 283,
   "metadata": {
    "scrolled": false
   },
   "outputs": [
    {
     "data": {
      "text/html": [
       "<div>\n",
       "<style scoped>\n",
       "    .dataframe tbody tr th:only-of-type {\n",
       "        vertical-align: middle;\n",
       "    }\n",
       "\n",
       "    .dataframe tbody tr th {\n",
       "        vertical-align: top;\n",
       "    }\n",
       "\n",
       "    .dataframe thead th {\n",
       "        text-align: right;\n",
       "    }\n",
       "</style>\n",
       "<table border=\"1\" class=\"dataframe\">\n",
       "  <thead>\n",
       "    <tr style=\"text-align: right;\">\n",
       "      <th></th>\n",
       "      <th>Name</th>\n",
       "      <th>Species</th>\n",
       "      <th>Breed</th>\n",
       "    </tr>\n",
       "  </thead>\n",
       "  <tbody>\n",
       "    <tr>\n",
       "      <th>0</th>\n",
       "      <td>Macchiatto</td>\n",
       "      <td>Cat</td>\n",
       "      <td>Devon Rex</td>\n",
       "    </tr>\n",
       "    <tr>\n",
       "      <th>1</th>\n",
       "      <td>Penny</td>\n",
       "      <td>Dog</td>\n",
       "      <td>Miniature Pinscher</td>\n",
       "    </tr>\n",
       "    <tr>\n",
       "      <th>2</th>\n",
       "      <td>Jameson</td>\n",
       "      <td>Dog</td>\n",
       "      <td>Japanese Chin</td>\n",
       "    </tr>\n",
       "    <tr>\n",
       "      <th>3</th>\n",
       "      <td>Dani</td>\n",
       "      <td>Dog</td>\n",
       "      <td>Retriever, Golden</td>\n",
       "    </tr>\n",
       "    <tr>\n",
       "      <th>4</th>\n",
       "      <td>Macchiatto</td>\n",
       "      <td>Cat</td>\n",
       "      <td>Balinese</td>\n",
       "    </tr>\n",
       "  </tbody>\n",
       "</table>\n",
       "</div>"
      ],
      "text/plain": [
       "         Name Species               Breed\n",
       "0  Macchiatto     Cat           Devon Rex\n",
       "1       Penny     Dog  Miniature Pinscher\n",
       "2     Jameson     Dog       Japanese Chin\n",
       "3        Dani     Dog   Retriever, Golden\n",
       "4  Macchiatto     Cat            Balinese"
      ]
     },
     "execution_count": 283,
     "metadata": {},
     "output_type": "execute_result"
    }
   ],
   "source": [
    "records = pd.DataFrame(columns=[\"Name\", \"Species\", \"Breed\"]);\n",
    "\n",
    "numRecords = 30;\n",
    "for i in range(0, numRecords):\n",
    "    species = random.choice(list(sourceData.keys()));\n",
    "    records.loc[i] = {\n",
    "        \"Name\" : random.choice(sourceData[species][\"names\"]),\n",
    "        \"Species\" : species,\n",
    "        \"Breed\" : random.choice(sourceData[species][\"breeds\"])\n",
    "    };\n",
    "\n",
    "records.head()"
   ]
  },
  {
   "cell_type": "code",
   "execution_count": 308,
   "metadata": {},
   "outputs": [],
   "source": [
    "records.set_index(\"Name\").to_parquet(\"pets.parquet\")"
   ]
  },
  {
   "cell_type": "markdown",
   "metadata": {},
   "source": [
    "## Build a graph\n",
    "* Create a node for each record\n",
    "* Create a node for each field-value\n",
    "* Link records to their field-values"
   ]
  },
  {
   "cell_type": "code",
   "execution_count": 284,
   "metadata": {},
   "outputs": [],
   "source": [
    "from pyspark import *\n",
    "from pyspark.sql import *"
   ]
  },
  {
   "cell_type": "code",
   "execution_count": 288,
   "metadata": {},
   "outputs": [],
   "source": [
    "sdf_records = spark.createDataFrame(records)"
   ]
  },
  {
   "cell_type": "code",
   "execution_count": 302,
   "metadata": {},
   "outputs": [],
   "source": [
    "a = list(records[\"Name\"].unique())\n",
    "b = list(records[\"Breed\"].unique())"
   ]
  },
  {
   "cell_type": "code",
   "execution_count": 287,
   "metadata": {},
   "outputs": [
    {
     "data": {
      "text/plain": [
       "DataFrame[Name: string, Species: string, Breed: string]"
      ]
     },
     "execution_count": 287,
     "metadata": {},
     "output_type": "execute_result"
    }
   ],
   "source": [
    "sdf_values = spark.createDataFrame()"
   ]
  }
 ],
 "metadata": {
  "kernelspec": {
   "display_name": "Python 3",
   "language": "python",
   "name": "python3"
  },
  "language_info": {
   "codemirror_mode": {
    "name": "ipython",
    "version": 3
   },
   "file_extension": ".py",
   "mimetype": "text/x-python",
   "name": "python",
   "nbconvert_exporter": "python",
   "pygments_lexer": "ipython3",
   "version": "3.5.2"
  }
 },
 "nbformat": 4,
 "nbformat_minor": 2
}
